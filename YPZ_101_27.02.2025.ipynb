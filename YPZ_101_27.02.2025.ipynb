{
 "cells": [
  {
   "cell_type": "code",
   "execution_count": null,
   "id": "9bedead1-5e65-48dd-a933-36cf807fd4a2",
   "metadata": {},
   "outputs": [],
   "source": [
    "# yorum satırıdır"
   ]
  },
  {
   "cell_type": "code",
   "execution_count": 1,
   "id": "67028f9a-832a-4704-8f46-d51a0bde88f6",
   "metadata": {},
   "outputs": [
    {
     "name": "stdout",
     "output_type": "stream",
     "text": [
      "Hello World\n"
     ]
    }
   ],
   "source": [
    "#1 Ekrana yazı yazma: Ekrana yazı yazmak için print() fonksiyonunu kullanırız.\n",
    "\n",
    "print(\"Hello World\")"
   ]
  },
  {
   "cell_type": "code",
   "execution_count": 17,
   "id": "805d1bcd-3637-438f-a717-7381700699ff",
   "metadata": {},
   "outputs": [
    {
     "name": "stdout",
     "output_type": "stream",
     "text": [
      "10\n",
      "3.14\n",
      "Ahmet\n",
      "True\n",
      "[1, 2, 3, 4]\n"
     ]
    }
   ],
   "source": [
    "#2 Değişkenler ve Veri Türleri\n",
    "\n",
    "#Değişken: Verilerin bellekte geçici olarak tutulduğu alanlardır.\n",
    "sayi=5\n",
    "\n",
    "#Değişken Adlandırma Kuralları\n",
    "#1 Değişken isimleri sayı ile başlayamaz. Ancak harfle başlayan değişkenlerden sonra sayı gelebilir. Örn: Sayi1, Sayi2...\n",
    "#2 Python dilinde eğer değişken ismi birden fazla kelime ise alt çizgi (_) ile ayrılır. Örn: ogrenci_no\n",
    "#3 Büyük küçük harf duyarlı olduğu için Sayi ile sayi arasında fark vardır. 2 ayrı değişkeni temsil ederler.\n",
    "#4 Programlama dilinin anahtar kelimeleri değişken ismi olamaz. Örn: True, False, if, def...\n",
    "#5 Operatörler değişken isimlerinin arasına ayırmak amaçlı yazılamaz. Örn: Ogrenci+no, ogrenci-ismi\n",
    "\n",
    "#Veri Türleri: Verilerin türleri vardır\n",
    "# str(string): Metinsel ifadeler Örn: isim=\"Feride\"\n",
    "# int (integer): Tam sayılar Örn: sayi=5\n",
    "# float: Ondalıklı sayılar Örn: sayi2=0.5\n",
    "# bool (boolean): True veya False Örn: aktif=True\n",
    "# list : Listeler Örn: numbers=[1,3,5,7]\n",
    "\n",
    "# int (Tam sayı)\n",
    "x = 10\n",
    "print(x)  # 10\n",
    "\n",
    "# float (Ondalık sayı)\n",
    "y = 3.14\n",
    "print(y)  # 3.14\n",
    "\n",
    "# str (Karakter dizisi)\n",
    "name = \"Ahmet\"\n",
    "print(name)  # Ahmet\n",
    "\n",
    "# bool (Doğru/Yanlış)\n",
    "is_active = True\n",
    "print(is_active)  # True\n",
    "\n",
    "# list (Liste)\n",
    "numbers = [1, 2, 3, 4]\n",
    "print(numbers)  # [1, 2, 3, 4]"
   ]
  },
  {
   "cell_type": "code",
   "execution_count": 15,
   "id": "daf786a3-61c5-4eea-b227-ce579e67a2c6",
   "metadata": {},
   "outputs": [
    {
     "name": "stdout",
     "output_type": "stream",
     "text": [
      "7\n",
      "3\n",
      "10\n",
      "2.5\n",
      "2\n",
      "1\n",
      "25\n",
      "False\n",
      "True\n",
      "False\n",
      "True\n",
      "False\n",
      "True\n",
      "False\n",
      "True\n",
      "False\n",
      "True\n",
      "True\n"
     ]
    }
   ],
   "source": [
    "#3 Operatörler\n",
    "# Python'da çeşitli operatörler bulunur. Bunlar aritmetik, karşılaştırma, mantıksal ve üyelik operatörlerini içerir.\n",
    "\n",
    "# Aritmetik Operatörler:\n",
    "# +: Toplama\n",
    "# -: Çıkarma\n",
    "# *: Çarpma\n",
    "# /: Bölme\n",
    "# //: Tam sayı bölme\n",
    "# %: Modül (kalan)\n",
    "# **: Üs alma\n",
    "# Örnek:\n",
    "\n",
    "a = 5\n",
    "b = 2\n",
    "\n",
    "print(a + b)  # 7\n",
    "print(a - b)  # 3\n",
    "print(a * b)  # 10\n",
    "print(a / b)  # 2.5\n",
    "print(a // b)  # 2\n",
    "print(a % b)  # 1\n",
    "print(a ** b)  # 25\n",
    "\n",
    "\n",
    "# Karşılaştırma Operatörleri:\n",
    "# ==: Eşit mi?\n",
    "# !=: Eşit değil mi?\n",
    "# >: Büyük mü?\n",
    "# <: Küçük mü?\n",
    "# >=: Büyük veya eşit mi?\n",
    "# <=: Küçük veya eşit mi?\n",
    "# Örnek:\n",
    "\n",
    "x = 10\n",
    "y = 20\n",
    "\n",
    "print(x == y)  # False\n",
    "print(x != y)  # True\n",
    "print(x > y)  # False\n",
    "print(x < y)  # True\n",
    "print(x >= y)  # False\n",
    "print(x <= y)  # True\n",
    "\n",
    "\n",
    "# Mantıksal Operatörler:\n",
    "# and: Ve\n",
    "# or: Veya\n",
    "# not: Değil\n",
    "# Örnek:\n",
    "\n",
    "x = True\n",
    "y = False\n",
    "\n",
    "print(x and y)  # False\n",
    "print(x or y)  # True\n",
    "print(not x)  # False\n",
    "\n",
    "\n",
    "# Üyelik Operatörleri:\n",
    "# in: Bir öğe içinde mi?\n",
    "# not in: Bir öğe içinde değil mi?\n",
    "# Örnek:\n",
    "\n",
    "fruits = [\"elma\", \"armut\", \"muz\"]\n",
    "\n",
    "print(\"elma\" in fruits)  # True\n",
    "print(\"portakal\" not in fruits)  # True\n"
   ]
  },
  {
   "cell_type": "code",
   "execution_count": 21,
   "id": "1d51c4f4-920b-4fce-82e7-0eb23314e6ef",
   "metadata": {},
   "outputs": [
    {
     "name": "stdout",
     "output_type": "stream",
     "text": [
      "x 5'ten büyüktür.\n",
      "Hafta sonu\n",
      "Hafta içi\n",
      "Hafta sonu\n",
      "Geçersiz gün\n"
     ]
    }
   ],
   "source": [
    "#4 Koşul İfadeleri\n",
    "# Python'da koşul ifadeleri if, elif ve else kullanılarak yapılır.\n",
    "# Örnek:\n",
    "\n",
    "x = 10\n",
    "\n",
    "if x > 5:\n",
    "    print(\"x 5'ten büyüktür.\")\n",
    "elif x == 5:\n",
    "    print(\"x 5'e eşittir.\")\n",
    "else:\n",
    "    print(\"x 5'ten küçüktür.\")\n",
    "\n",
    "# Temel match-case Kullanımı:\n",
    "# Örnek:\n",
    "\n",
    "def hafta_gunu(gun):\n",
    "    match gun:\n",
    "        case \"Pazar\" | \"Cumartesi\":  # Çoklu değer kontrolü (OR mantığı)\n",
    "            return \"Hafta sonu\"\n",
    "        case \"Pazartesi\" | \"Salı\" | \"Çarşamba\" | \"Perşembe\" | \"Cuma\":\n",
    "            return \"Hafta içi\"\n",
    "        case _:\n",
    "            return \"Geçersiz gün\"\n",
    "    \n",
    "print(hafta_gunu(\"Cumartesi\"))  # Hafta sonu\n",
    "print(hafta_gunu(\"Salı\"))       # Hafta içi\n",
    "print(hafta_gunu(\"Cumartesi\"))  # Hafta sonu\n",
    "print(hafta_gunu(\"Funday\"))     # Geçersiz gün"
   ]
  },
  {
   "cell_type": "code",
   "execution_count": 23,
   "id": "37312aa3-748b-41a9-93e3-f66501dc45d6",
   "metadata": {},
   "outputs": [
    {
     "name": "stdout",
     "output_type": "stream",
     "text": [
      "1\n",
      "2\n",
      "3\n",
      "4\n",
      "5\n",
      "1\n",
      "2\n",
      "3\n",
      "4\n",
      "5\n"
     ]
    }
   ],
   "source": [
    "# 5. Döngüler\n",
    "# for Döngüsü:\n",
    "# Bir koleksiyon üzerinde yineleme yapmak için kullanılır.\n",
    "# Örnek:\n",
    "\n",
    "for i in range(1, 6):  # 1'den 5'e kadar\n",
    "    print(i)\n",
    "\n",
    "# while Döngüsü:\n",
    "# Bir koşul doğru olduğu sürece döngü çalışır.\n",
    "# Örnek:\n",
    "\n",
    "count = 1\n",
    "while count <= 5:\n",
    "    print(count)\n",
    "    count += 1\n"
   ]
  }
 ],
 "metadata": {
  "kernelspec": {
   "display_name": "Python [conda env:base] *",
   "language": "python",
   "name": "conda-base-py"
  },
  "language_info": {
   "codemirror_mode": {
    "name": "ipython",
    "version": 3
   },
   "file_extension": ".py",
   "mimetype": "text/x-python",
   "name": "python",
   "nbconvert_exporter": "python",
   "pygments_lexer": "ipython3",
   "version": "3.12.7"
  }
 },
 "nbformat": 4,
 "nbformat_minor": 5
}
